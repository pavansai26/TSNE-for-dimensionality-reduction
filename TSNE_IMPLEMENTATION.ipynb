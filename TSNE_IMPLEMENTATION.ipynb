{
  "nbformat": 4,
  "nbformat_minor": 0,
  "metadata": {
    "colab": {
      "name": "TSNE IMPLEMENTATION.ipynb",
      "provenance": [],
      "private_outputs": true,
      "authorship_tag": "ABX9TyM8Sk4vRzATSIM7+Lj5difx",
      "include_colab_link": true
    },
    "kernelspec": {
      "name": "python3",
      "display_name": "Python 3"
    },
    "accelerator": "TPU"
  },
  "cells": [
    {
      "cell_type": "markdown",
      "metadata": {
        "id": "view-in-github",
        "colab_type": "text"
      },
      "source": [
        "<a href=\"https://colab.research.google.com/github/pavansai26/TSNE-for-dimensionality-reduction/blob/master/TSNE_IMPLEMENTATION.ipynb\" target=\"_parent\"><img src=\"https://colab.research.google.com/assets/colab-badge.svg\" alt=\"Open In Colab\"/></a>"
      ]
    },
    {
      "cell_type": "code",
      "metadata": {
        "id": "NyVpAEiVg4Lr",
        "colab_type": "code",
        "colab": {}
      },
      "source": [
        "import numpy as np\n",
        "import sklearn.datasets\n",
        "import sklearn.neighbors\n",
        "import matplotlib.pyplot as plt\n",
        "import pandas as pd\n"
      ],
      "execution_count": null,
      "outputs": []
    },
    {
      "cell_type": "code",
      "metadata": {
        "id": "q_lAxw2UiqWz",
        "colab_type": "code",
        "colab": {}
      },
      "source": [
        "from sklearn.manifold import TSNE"
      ],
      "execution_count": null,
      "outputs": []
    },
    {
      "cell_type": "code",
      "metadata": {
        "id": "d1UYqJZlh7TT",
        "colab_type": "code",
        "colab": {}
      },
      "source": [
        "from sklearn.datasets import load_digits\n",
        "from sklearn import manifold"
      ],
      "execution_count": null,
      "outputs": []
    },
    {
      "cell_type": "code",
      "metadata": {
        "id": "1VK6RIE7iE4S",
        "colab_type": "code",
        "colab": {}
      },
      "source": [
        "digits = load_digits()\n",
        "digits.images.shape"
      ],
      "execution_count": null,
      "outputs": []
    },
    {
      "cell_type": "code",
      "metadata": {
        "id": "br62AwnOibnT",
        "colab_type": "code",
        "colab": {}
      },
      "source": [
        "data_x=digits.data\n",
        "data_y=digits.target"
      ],
      "execution_count": null,
      "outputs": []
    },
    {
      "cell_type": "code",
      "metadata": {
        "id": "MSJHzUbQiKmX",
        "colab_type": "code",
        "colab": {}
      },
      "source": [
        "fig,ax =plt.subplots(10,10,figsize=(9,9),subplot_kw={'xticks':[],'yticks':[]},gridspec_kw=dict(hspace=0.1,wspace=0.1))\n",
        "for i,axes in enumerate(ax.flat):\n",
        "  axes.imshow(digits.images[i],cmap='binary')\n",
        "  axes.text(0.05,0.05,str(digits.target[i]),transform=axes.transAxes,color='green')"
      ],
      "execution_count": null,
      "outputs": []
    },
    {
      "cell_type": "code",
      "metadata": {
        "id": "SCg1mvynjjf3",
        "colab_type": "code",
        "colab": {}
      },
      "source": [
        "model=TSNE(n_components=2)"
      ],
      "execution_count": null,
      "outputs": []
    },
    {
      "cell_type": "code",
      "metadata": {
        "id": "_cd-4OCnnohv",
        "colab_type": "code",
        "colab": {}
      },
      "source": [
        "tsne_data=model.fit_transform(data_x)"
      ],
      "execution_count": null,
      "outputs": []
    },
    {
      "cell_type": "code",
      "metadata": {
        "id": "qjKgVtPGjBAF",
        "colab_type": "code",
        "colab": {}
      },
      "source": [
        "fig, ax = plt.subplots()\n",
        "\n",
        "\n",
        "scatter = ax.scatter(tsne_data[:,0],tsne_data[:,1], c=data_y, )\n",
        "# produce a legend with the unique colors from the scatter\n",
        "legend1 = ax.legend(*scatter.legend_elements(),loc=\"upper right\", title=\"Classes\")\n",
        "ax.add_artist(legend1)\n"
      ],
      "execution_count": null,
      "outputs": []
    },
    {
      "cell_type": "code",
      "metadata": {
        "id": "H_U0l_e-mPcV",
        "colab_type": "code",
        "colab": {}
      },
      "source": [
        "model=TSNE(perplexity=100)\n",
        "tsne_data=model.fit_transform(data_x)\n",
        "\n",
        "\n"
      ],
      "execution_count": null,
      "outputs": []
    },
    {
      "cell_type": "code",
      "metadata": {
        "id": "iuz9R14IjYej",
        "colab_type": "code",
        "colab": {}
      },
      "source": [
        "fig, ax = plt.subplots()\n",
        "\n",
        "\n",
        "scatter = ax.scatter(tsne_data[:,0],tsne_data[:,1], c=data_y, )\n",
        "# produce a legend with the unique colors from the scatter\n",
        "legend1 = ax.legend(*scatter.legend_elements(),loc=\"upper right\", title=\"Classes\")\n",
        "ax.add_artist(legend1)\n"
      ],
      "execution_count": null,
      "outputs": []
    },
    {
      "cell_type": "code",
      "metadata": {
        "id": "8Gb0fmMNBGPl",
        "colab_type": "code",
        "colab": {}
      },
      "source": [
        "model=TSNE(perplexity=200)\n",
        "tsne_data=model.fit_transform(data_x)\n",
        "\n",
        "\n"
      ],
      "execution_count": null,
      "outputs": []
    },
    {
      "cell_type": "code",
      "metadata": {
        "id": "QIrwWF08vUIZ",
        "colab_type": "code",
        "colab": {}
      },
      "source": [
        "fig, ax = plt.subplots()\n",
        "\n",
        "\n",
        "scatter = ax.scatter(tsne_data[:,0],tsne_data[:,1], c=data_y, )\n",
        "# produce a legend with the unique colors from the scatter\n",
        "legend1 = ax.legend(*scatter.legend_elements(),loc=\"upper right\", title=\"Classes\")\n",
        "ax.add_artist(legend1)\n"
      ],
      "execution_count": null,
      "outputs": []
    },
    {
      "cell_type": "code",
      "metadata": {
        "id": "oCp3Kfl8vYP_",
        "colab_type": "code",
        "colab": {}
      },
      "source": [
        "model=TSNE(perplexity=1000)\n",
        "tsne_data=model.fit_transform(data_x)\n",
        "\n",
        "\n"
      ],
      "execution_count": null,
      "outputs": []
    },
    {
      "cell_type": "code",
      "metadata": {
        "id": "I8c0oyPUwf9T",
        "colab_type": "code",
        "colab": {}
      },
      "source": [
        "fig, ax = plt.subplots()\n",
        "\n",
        "\n",
        "scatter = ax.scatter(tsne_data[:,0],tsne_data[:,1], c=data_y, )\n",
        "# produce a legend with the unique colors from the scatter\n",
        "legend1 = ax.legend(*scatter.legend_elements(),loc=\"upper right\", title=\"Classes\")\n",
        "ax.add_artist(legend1)\n"
      ],
      "execution_count": null,
      "outputs": []
    },
    {
      "cell_type": "code",
      "metadata": {
        "id": "1TOo7wMcwi_j",
        "colab_type": "code",
        "colab": {}
      },
      "source": [
        "model=TSNE(perplexity=10000)\n",
        "tsne_data=model.fit_transform(data_x)\n",
        "\n",
        "\n"
      ],
      "execution_count": null,
      "outputs": []
    },
    {
      "cell_type": "code",
      "metadata": {
        "id": "49SjkhmYxQzx",
        "colab_type": "code",
        "colab": {}
      },
      "source": [
        "fig, ax = plt.subplots()\n",
        "\n",
        "\n",
        "scatter = ax.scatter(tsne_data[:,0],tsne_data[:,1], c=data_y, )\n",
        "# produce a legend with the unique colors from the scatter\n",
        "legend1 = ax.legend(*scatter.legend_elements(),loc=\"upper right\", title=\"Classes\")\n",
        "ax.add_artist(legend1)\n"
      ],
      "execution_count": null,
      "outputs": []
    },
    {
      "cell_type": "code",
      "metadata": {
        "id": "4GpXkmCVxTeV",
        "colab_type": "code",
        "colab": {}
      },
      "source": [
        ""
      ],
      "execution_count": null,
      "outputs": []
    }
  ]
}